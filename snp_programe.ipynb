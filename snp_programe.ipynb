{
 "cells": [
  {
   "cell_type": "code",
   "execution_count": 1,
   "metadata": {},
   "outputs": [],
   "source": [
    "from __future__ import division\n",
    "import collections\n",
    "import pysam\n",
    "samfile = pysam.AlignmentFile(\"sample3.bam\", \"rb\")"
   ]
  },
  {
   "cell_type": "code",
   "execution_count": 2,
   "metadata": {},
   "outputs": [
    {
     "name": "stdout",
     "output_type": "stream",
     "text": [
      "There are 13 reads overlapping the coordinate at chr15:28365618.\n",
      "The reads support the following nucleotides (total/with minimum base quality of 20):\n"
     ]
    }
   ],
   "source": [
    "for i, pileupcolumn in enumerate(samfile.pileup(region=\"chr15:28365618\")):\n",
    "    if pileupcolumn.reference_pos == 28365618-1:\n",
    "        total_reads = pileupcolumn.nsegments\n",
    "\n",
    "        print \"There are %d reads overlapping the coordinate at chr15:28365618.\" % total_reads\n",
    "        print \"The reads support the following nucleotides (total/with minimum base quality of 20):\"\n",
    "        PileupBase = collections.namedtuple('PileupBase', ['Pos', 'Base','Qual','Strand'])\n",
    "        PileupBases = []\n",
    "        for pileupread in pileupcolumn.pileups:\n",
    "            k = pileupread.query_position\n",
    "            p = PileupBase(k, pileupread.alignment.seq[k], pileupread.alignment.query_qualities[k], not pileupread.alignment.is_reverse)\n",
    "            PileupBases.append(p)\n",
    "            #print pileupread.alignment"
   ]
  },
  {
   "cell_type": "code",
   "execution_count": 3,
   "metadata": {},
   "outputs": [
    {
     "name": "stdout",
     "output_type": "stream",
     "text": [
      "The reads support the following nucleotides (total/with minimum base quality of 20):\n",
      "\tA: 0/0\n",
      "\tC: 0/0\n",
      "\tG: 13/13 (of these 23%/76% map to the forward strand)\n",
      "\tT: 0/0\n",
      "\tN: 0/0\n"
     ]
    }
   ],
   "source": [
    "Bases = [p.Base for p in PileupBases]\n",
    "Bases_f = [p.Base for p in PileupBases if p.Strand == True]\n",
    "\n",
    "Bases_filter = [p.Base for p in PileupBases if p.Qual >=20]\n",
    "Bases_filter_f = [p.Base for p in PileupBases if p.Strand == False and p.Qual>=20]\n",
    "\n",
    "print \"The reads support the following nucleotides (total/with minimum base quality of %d):\"% 20\n",
    "print \"\\tA: %d/%d\" % (Bases.count('A'),Bases_filter.count('A')),\n",
    "if Bases.count('A') != 0 and Bases_filter.count('A') != 0:\n",
    "    print \"(of these %d%%/%d%% map to the forward strand)\" % (\n",
    "        Bases_f.count('A')/Bases.count('A')*100,Bases_filter_f.count('A')/Bases_filter.count('A')*100)\n",
    "else: print\n",
    "print \"\\tC: %d/%d\" % (Bases.count('C'),Bases_filter.count('C')),\n",
    "if Bases.count('C') != 0 and Bases_filter.count('C') != 0:\n",
    "    print \"(of these %d%%/%d%% map to the forward strand)\" % (\n",
    "        Bases_f.count('C')/Bases.count('C')*100,Bases_filter_f.count('C')/Bases_filter.count('C')*100)\n",
    "else: print\n",
    "print \"\\tG: %d/%d\" % (Bases.count('G'),Bases_filter.count('G')),\n",
    "if Bases.count('G') != 0 and Bases_filter.count('G') != 0:\n",
    "    print \"(of these %d%%/%d%% map to the forward strand)\" % (\n",
    "        Bases_f.count('G')/Bases.count('G')*100,Bases_filter_f.count('G')/Bases_filter.count('G')*100)\n",
    "else: print\n",
    "print \"\\tT: %d/%d\" % (Bases.count('T'),Bases_filter.count('T')),\n",
    "if Bases.count('T') != 0 and Bases_filter.count('T') != 0:\n",
    "    print \"(of these %d%%/%d%% map to the forward strand)\" % (\n",
    "        Bases_f.count('T')/Bases.count('T')*100,Bases_filter_f.count('T')/Bases_filter.count('T')*100)\n",
    "else: print\n",
    "print \"\\tN: %d/%d\" % (Bases.count('N'),Bases_filter.count('N')),\n",
    "if Bases.count('N') != 0 and Bases_filter.count('N') != 0:\n",
    "    print \"(of these %d%%/%d%% map to the forward strand)\" % (\n",
    "        Bases_f.count('N')/Bases.count('N')*100,Bases_filter_f.count('N')/Bases_filter.count('N')*100)\n",
    "else: print\n",
    "\n"
   ]
  },
  {
   "cell_type": "code",
   "execution_count": 4,
   "metadata": {},
   "outputs": [
    {
     "name": "stdout",
     "output_type": "stream",
     "text": [
      "[PileupBase(Pos=88, Base='G', Qual=32, Strand=True), PileupBase(Pos=71, Base='G', Qual=36, Strand=False), PileupBase(Pos=63, Base='G', Qual=37, Strand=False), PileupBase(Pos=53, Base='G', Qual=29, Strand=True), PileupBase(Pos=52, Base='G', Qual=41, Strand=False), PileupBase(Pos=53, Base='G', Qual=36, Strand=False), PileupBase(Pos=33, Base='G', Qual=34, Strand=False), PileupBase(Pos=29, Base='G', Qual=37, Strand=False), PileupBase(Pos=17, Base='G', Qual=29, Strand=False), PileupBase(Pos=16, Base='G', Qual=40, Strand=True), PileupBase(Pos=14, Base='G', Qual=35, Strand=False), PileupBase(Pos=7, Base='G', Qual=35, Strand=False), PileupBase(Pos=4, Base='G', Qual=32, Strand=False)]\n"
     ]
    }
   ],
   "source": [
    "print PileupBases"
   ]
  },
  {
   "cell_type": "code",
   "execution_count": 5,
   "metadata": {},
   "outputs": [
    {
     "name": "stdout",
     "output_type": "stream",
     "text": [
      "13\n",
      "G 88 HWI-ST801:80:D0JHUACXX:7:2107:13142:35563\n",
      "G 71 HWI-ST801:80:D0JHUACXX:7:2301:12939:170616\n",
      "G 63 HWI-ST801:80:D0JHUACXX:7:1206:18803:56963\n",
      "G 53 HWI-ST801:80:D0JHUACXX:7:1103:15142:188595\n",
      "G 52 HWI-ST801:80:D0JHUACXX:7:1106:9230:54454\n",
      "G 53 HWI-ST801:80:D0JHUACXX:7:1103:15142:188595\n",
      "G 33 HWI-ST801:80:D0JHUACXX:7:2304:4972:7865\n",
      "G 29 HWI-ST801:80:D0JHUACXX:7:1206:1740:105986\n",
      "G 17 HWI-ST801:80:D0JHUACXX:7:2202:19495:100412\n",
      "G 16 HWI-ST801:80:D0JHUACXX:7:1303:5072:2836\n",
      "G 14 HWI-ST801:80:D0JHUACXX:7:2305:1490:60360\n",
      "G 7 HWI-ST801:80:D0JHUACXX:7:1205:7378:157128\n",
      "G 4 HWI-ST801:80:D0JHUACXX:7:2208:4608:19403\n"
     ]
    }
   ],
   "source": [
    "for i, pileupcolumn in enumerate(samfile.pileup(region=\"chr15:28365618\")):\n",
    "    if pileupcolumn.reference_pos == 28365618-1:\n",
    "        print pileupcolumn.nsegments\n",
    "        for read in pileupcolumn.pileups:\n",
    "            k = read.query_position\n",
    "            print read.alignment.seq[k], read.query_position, read.alignment.qname"
   ]
  },
  {
   "cell_type": "markdown",
   "metadata": {},
   "source": [
    "## SNP genotyping by short read mapping"
   ]
  },
  {
   "cell_type": "code",
   "execution_count": 8,
   "metadata": {},
   "outputs": [
    {
     "name": "stdout",
     "output_type": "stream",
     "text": [
      "There are 36 reads overlapping the coordinate at chr15:28365618.\n",
      "The reads support the following nucleotides (total/with minimum base quality of 20):\n",
      "\tA: 21/19 (of these 38%/57% map to the forward strand)\n",
      "\tC: 0/0\n",
      "\tG: 15/15 (of these 40%/60% map to the forward strand)\n",
      "\tT: 0/0\n",
      "\tN: 0/0\n"
     ]
    }
   ],
   "source": [
    "%run snp_programe.py sample1.bam chr15:28365618 20"
   ]
  },
  {
   "cell_type": "code",
   "execution_count": 9,
   "metadata": {},
   "outputs": [
    {
     "name": "stdout",
     "output_type": "stream",
     "text": [
      "There are 25 reads overlapping the coordinate at chr15:28365618.\n",
      "The reads support the following nucleotides (total/with minimum base quality of 20):\n",
      "\tA: 25/25 (of these 48%/52% map to the forward strand)\n",
      "\tC: 0/0\n",
      "\tG: 0/0\n",
      "\tT: 0/0\n",
      "\tN: 0/0\n"
     ]
    }
   ],
   "source": [
    "%run snp_programe.py sample2.bam chr15:28365618 20"
   ]
  },
  {
   "cell_type": "code",
   "execution_count": 10,
   "metadata": {},
   "outputs": [
    {
     "name": "stdout",
     "output_type": "stream",
     "text": [
      "There are 13 reads overlapping the coordinate at chr15:28365618.\n",
      "The reads support the following nucleotides (total/with minimum base quality of 20):\n",
      "\tA: 0/0\n",
      "\tC: 0/0\n",
      "\tG: 13/13 (of these 23%/76% map to the forward strand)\n",
      "\tT: 0/0\n",
      "\tN: 0/0\n"
     ]
    }
   ],
   "source": [
    "%run snp_programe.py sample3.bam chr15:28365618 20"
   ]
  },
  {
   "cell_type": "code",
   "execution_count": null,
   "metadata": {
    "collapsed": true
   },
   "outputs": [],
   "source": []
  }
 ],
 "metadata": {
  "kernelspec": {
   "display_name": "Python 2",
   "language": "python",
   "name": "python2"
  },
  "language_info": {
   "codemirror_mode": {
    "name": "ipython",
    "version": 2
   },
   "file_extension": ".py",
   "mimetype": "text/x-python",
   "name": "python",
   "nbconvert_exporter": "python",
   "pygments_lexer": "ipython2",
   "version": "2.7.12"
  }
 },
 "nbformat": 4,
 "nbformat_minor": 1
}
